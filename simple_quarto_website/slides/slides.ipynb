{
 "cells": [
  {
   "cell_type": "markdown",
   "id": "7b241649",
   "metadata": {},
   "source": [
    "---\n",
    "title: \"My academic Journey\"\n",
    "format:\n",
    "  revealjs:\n",
    "    theme: simple\n",
    "    slide-number: true\n",
    "    code-fold: true\n",
    "bibliography: ../reference.bib\n",
    "slide-level: 2\n",
    "---\n"
   ]
  },
  {
   "cell_type": "markdown",
   "id": "a8bbc003",
   "metadata": {},
   "source": [
    "## Introduction  \n",
    "\n",
    "My name is Hillary Kouokam Metcheka AKA HillaryVIP. Welcome to the story of my academic journey. I just graduated in June 2025 from the University of Oregon and now I am getting my masters at Georgetown University. This slide deck is powered by **Quarto + Reveal.js**.  \n",
    "\n",
    "We reference Bishop [@bishop2006pattern] to show proper citation use.  \n"
   ]
  },
  {
   "cell_type": "markdown",
   "id": "bb179b00",
   "metadata": {},
   "source": [
    "## Graduation Highlights  \n",
    "\n",
    "Two photos from my graduation:  \n",
    "\n",
    "![Graduation Photoshoot, Eugene, OR](images/vipimg1.jpg){width=70%}  \n",
    "\n",
    "![Graduation Photoshoot, Eugene, OR](images/vipimgg22.jpg){width=70%}  \n"
   ]
  },
  {
   "cell_type": "markdown",
   "id": "edcaad88",
   "metadata": {},
   "source": [
    "## Key notes  \n",
    "\n",
    "- Consistency is key  \n",
    "- Clear communication of results matters  \n",
    "- Do what you love and passionnated about\n",
    "- Make time for yourself.\n"
   ]
  },
  {
   "cell_type": "code",
   "execution_count": null,
   "id": "e1e9a263",
   "metadata": {
    "vscode": {
     "languageId": "plaintext"
    }
   },
   "outputs": [],
   "source": [
    "import numpy as np\n",
    "import matplotlib.pyplot as plt\n",
    "\n",
    "x = np.linspace(0, 2*np.pi, 200)\n",
    "y = np.sin(x)\n",
    "\n",
    "plt.figure(figsize=(6,4))\n",
    "plt.plot(x, y, label=\"sin(x)\", color=\"blue\")\n",
    "plt.title(\" My Plot\")\n",
    "plt.xlabel(\"x\")\n",
    "plt.ylabel(\"sin(x)\")\n",
    "plt.legend()\n",
    "plt.grid(True)\n",
    "plt.show()\n"
   ]
  }
 ],
 "metadata": {
  "language_info": {
   "name": "python"
  }
 },
 "nbformat": 4,
 "nbformat_minor": 5
}
